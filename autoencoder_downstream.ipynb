{
 "cells": [
  {
   "cell_type": "markdown",
   "metadata": {},
   "source": [
    "## Assessing Combat matrices autism classification using SVM \n",
    "- with gridsearch C optimisation\n",
    "- Support Vector Machine\n"
   ]
  },
  {
   "cell_type": "code",
   "execution_count": 23,
   "metadata": {},
   "outputs": [],
   "source": [
    "import pandas as pd\n",
    "import os\n",
    "import glob\n",
    "import numpy as np\n",
    "from scipy.io import loadmat\n",
    "from sklearn.model_selection import train_test_split, GridSearchCV\n",
    "from sklearn.svm import SVC\n",
    "from sklearn.metrics import accuracy_score, classification_report\n",
    "from sklearn.preprocessing import StandardScaler\n",
    "from sklearn.pipeline import Pipeline\n",
    "from sklearn.metrics import (accuracy_score, recall_score, precision_score, \n",
    "                             roc_auc_score, roc_curve, confusion_matrix, balanced_accuracy_score)\n",
    "\n"
   ]
  },
  {
   "cell_type": "code",
   "execution_count": 24,
   "metadata": {},
   "outputs": [],
   "source": [
    "# control_path = '/Users/roshan/Desktop/fMRI/output/combat' #onlt using site as covars\n",
    "# control_path = '/Users/roshan/Desktop/fMRI/output/autoencoder/'\n",
    "# # control_path = '/Users/roshan/Desktop/fMRI/output/autoencoder2/'\n",
    "# control_path = '/Users/roshan/Desktop/fMRI/output/autoencoder3/'\n",
    "# control_path = '/Users/roshan/Desktop/fMRI/output/autoencoder4/'\n",
    "# control_path = '/Users/roshan/Desktop/fMRI/output/autoencoder5/'\n",
    "# control_path = '/Users/roshan/Desktop/fMRI/output/autoencoder6/'\n",
    "# control_path = '/Users/roshan/Desktop/fMRI/output/autoencoder4_mod/'\n",
    "# control_path = '/Users/roshan/Desktop/fMRI/output/autoencoder4/'\n",
    "# control_path = '/Users/roshan/Desktop/fMRI/output/vae1/'\n",
    "control_path = '/Users/roshan/Desktop/fMRI/output/caae1/'\n",
    "# control_path = '/Users/roshan/Desktop/fMRI/output/caae1_w_scaling/'\n",
    "# control_path = '/Users/roshan/Desktop/fMRI/output/caae05/'\n",
    "# control_path = '/Users/roshan/Desktop/fMRI/output/caae2/'\n",
    "# control_path = '/Users/roshan/Desktop/fMRI/output/caae5/'\n",
    "\n",
    "specific_files = glob.glob(os.path.join(control_path, '**', '*.mat'), recursive=True)\n",
    "patient_files = [f for f in specific_files if 'patient' in f]\n",
    "control_files = [f for f in specific_files if 'control' in f]"
   ]
  },
  {
   "cell_type": "code",
   "execution_count": 25,
   "metadata": {},
   "outputs": [
    {
     "data": {
      "text/html": [
       "<div>\n",
       "<style scoped>\n",
       "    .dataframe tbody tr th:only-of-type {\n",
       "        vertical-align: middle;\n",
       "    }\n",
       "\n",
       "    .dataframe tbody tr th {\n",
       "        vertical-align: top;\n",
       "    }\n",
       "\n",
       "    .dataframe thead th {\n",
       "        text-align: right;\n",
       "    }\n",
       "</style>\n",
       "<table border=\"1\" class=\"dataframe\">\n",
       "  <thead>\n",
       "    <tr style=\"text-align: right;\">\n",
       "      <th></th>\n",
       "      <th>Image Data ID</th>\n",
       "      <th>Subject</th>\n",
       "      <th>Group</th>\n",
       "      <th>Sex</th>\n",
       "      <th>Age</th>\n",
       "      <th>Visit</th>\n",
       "      <th>Modality</th>\n",
       "      <th>Description</th>\n",
       "      <th>Site</th>\n",
       "    </tr>\n",
       "  </thead>\n",
       "  <tbody>\n",
       "    <tr>\n",
       "      <th>0</th>\n",
       "      <td>I327154</td>\n",
       "      <td>50002</td>\n",
       "      <td>Autism</td>\n",
       "      <td>M</td>\n",
       "      <td>17</td>\n",
       "      <td>1</td>\n",
       "      <td>fMRI</td>\n",
       "      <td>Resting State fMRI</td>\n",
       "      <td>PITT</td>\n",
       "    </tr>\n",
       "    <tr>\n",
       "      <th>1</th>\n",
       "      <td>I328631</td>\n",
       "      <td>50002</td>\n",
       "      <td>Autism</td>\n",
       "      <td>M</td>\n",
       "      <td>17</td>\n",
       "      <td>1</td>\n",
       "      <td>MRI</td>\n",
       "      <td>MP-RAGE</td>\n",
       "      <td>PITT</td>\n",
       "    </tr>\n",
       "    <tr>\n",
       "      <th>2</th>\n",
       "      <td>I328256</td>\n",
       "      <td>50003</td>\n",
       "      <td>Autism</td>\n",
       "      <td>M</td>\n",
       "      <td>24</td>\n",
       "      <td>1</td>\n",
       "      <td>fMRI</td>\n",
       "      <td>Resting State fMRI</td>\n",
       "      <td>PITT</td>\n",
       "    </tr>\n",
       "    <tr>\n",
       "      <th>3</th>\n",
       "      <td>I328410</td>\n",
       "      <td>50003</td>\n",
       "      <td>Autism</td>\n",
       "      <td>M</td>\n",
       "      <td>24</td>\n",
       "      <td>1</td>\n",
       "      <td>MRI</td>\n",
       "      <td>MP-RAGE</td>\n",
       "      <td>PITT</td>\n",
       "    </tr>\n",
       "    <tr>\n",
       "      <th>4</th>\n",
       "      <td>I328736</td>\n",
       "      <td>50004</td>\n",
       "      <td>Autism</td>\n",
       "      <td>M</td>\n",
       "      <td>19</td>\n",
       "      <td>1</td>\n",
       "      <td>MRI</td>\n",
       "      <td>MP-RAGE</td>\n",
       "      <td>PITT</td>\n",
       "    </tr>\n",
       "  </tbody>\n",
       "</table>\n",
       "</div>"
      ],
      "text/plain": [
       "  Image Data ID  Subject   Group Sex  Age  Visit Modality         Description  \\\n",
       "0       I327154    50002  Autism   M   17      1     fMRI  Resting State fMRI   \n",
       "1       I328631    50002  Autism   M   17      1      MRI             MP-RAGE   \n",
       "2       I328256    50003  Autism   M   24      1     fMRI  Resting State fMRI   \n",
       "3       I328410    50003  Autism   M   24      1      MRI             MP-RAGE   \n",
       "4       I328736    50004  Autism   M   19      1      MRI             MP-RAGE   \n",
       "\n",
       "   Site  \n",
       "0  PITT  \n",
       "1  PITT  \n",
       "2  PITT  \n",
       "3  PITT  \n",
       "4  PITT  "
      ]
     },
     "execution_count": 25,
     "metadata": {},
     "output_type": "execute_result"
    }
   ],
   "source": [
    "meta_data = pd.read_csv('Sheet 1-ABIDE_metadata.csv')\n",
    "meta_data.head()"
   ]
  },
  {
   "cell_type": "code",
   "execution_count": 26,
   "metadata": {},
   "outputs": [
    {
     "name": "stdout",
     "output_type": "stream",
     "text": [
      "Data matrices shape: (198, 116, 116)\n",
      "Labels shape: (198,)\n"
     ]
    }
   ],
   "source": [
    "\n",
    "# Initialize lists to hold data and labels\n",
    "data_matrices = []\n",
    "labels = []\n",
    "\n",
    "# Function to load the matrix from a .mat file\n",
    "def load_matrix(file_path):\n",
    "    mat_data = loadmat(file_path)\n",
    "    # Adjust 'data' to the key used in your .mat files\n",
    "    return mat_data['data']\n",
    "\n",
    "# Load control data (label = 0)\n",
    "for file_path in control_files:\n",
    "    matrix = load_matrix(file_path)\n",
    "    if matrix is not None:\n",
    "        data_matrices.append(matrix)\n",
    "        labels.append(0)  # Label for control\n",
    "\n",
    "# Load autism data (label = 1)\n",
    "for file_path in patient_files:\n",
    "    matrix = load_matrix(file_path)\n",
    "    if matrix is not None:\n",
    "        data_matrices.append(matrix)\n",
    "        labels.append(1)  # Label for autism/patient\n",
    "\n",
    "# Convert to numpy arrays for further analysis\n",
    "data_matrices = np.array(data_matrices)\n",
    "labels = np.array(labels)\n",
    "\n",
    "# Check the shapes of your loaded data and labels\n",
    "print(\"Data matrices shape:\", data_matrices.shape)\n",
    "print(\"Labels shape:\", labels.shape)"
   ]
  },
  {
   "cell_type": "code",
   "execution_count": 27,
   "metadata": {},
   "outputs": [],
   "source": [
    "X = data_matrices.reshape(data_matrices.shape[0], -1)\n",
    "\n",
    "# Ensure the data is shuffled before splitting\n",
    "X_train, X_test, y_train, y_test = train_test_split(X, labels, test_size=0.2, random_state=42, shuffle=True)\n"
   ]
  },
  {
   "cell_type": "code",
   "execution_count": 28,
   "metadata": {},
   "outputs": [],
   "source": [
    "# Define the SVM pipeline with scaling\n",
    "svm_pipeline = Pipeline([\n",
    "    ('scaler', StandardScaler()),  # Standardize the data\n",
    "    ('svm', SVC(kernel='linear', C=2**-5,probability=True))  # Linear SVM with probability enabled\n",
    "])"
   ]
  },
  {
   "cell_type": "code",
   "execution_count": 19,
   "metadata": {},
   "outputs": [
    {
     "name": "stdout",
     "output_type": "stream",
     "text": [
      "Model trained with fixed C value of 2^-5.\n"
     ]
    }
   ],
   "source": [
    "# Define the SVM pipeline with scaling\n",
    "svm_pipeline = Pipeline([\n",
    "    ('scaler', StandardScaler()),  # Standardize the data\n",
    "    ('svm', SVC(kernel='linear', C=2**-5,probability=True))  # Linear SVM with probability enabled\n",
    "])\n",
    "# Train the model using the fixed C value\n",
    "svm_pipeline.fit(X_train, y_train)\n",
    "\n",
    "# Make predictions on the test set\n",
    "y_pred = svm_pipeline.predict(X_test)\n",
    "y_prob = svm_pipeline.predict_proba(X_test)[:, 1]  # Probabilities for ROC AUC calculation\n",
    "\n",
    "# Since we are not using grid search, there's no need to print the best C value\n",
    "print(\"Model trained with fixed C value of 2^-5.\")"
   ]
  },
  {
   "cell_type": "code",
   "execution_count": 20,
   "metadata": {},
   "outputs": [],
   "source": [
    "# takes a minute or two\n",
    "# # Define the range of C values for grid search: [2^(-5), ..., 2^5]\n",
    "# param_grid = {\n",
    "#     'svm__C': [2 ** i for i in range(-7, 3)]  # C values: 2^-5 to 2^5\n",
    "# }\n",
    "\n",
    "# # Implement GridSearchCV for cross-validation and hyperparameter tuning\n",
    "# grid_search = GridSearchCV(svm_pipeline, param_grid, cv=5, scoring='accuracy', n_jobs=-1)\n",
    "\n",
    "# # Train the model using grid search\n",
    "# grid_search.fit(X_train, y_train)\n",
    "\n",
    "# best_model = grid_search.best_estimator_\n",
    "\n",
    "# y_pred = best_model.predict(X_test)\n",
    "# y_prob = best_model.predict_proba(X_test)[:, 1]  #\n",
    "\n",
    "# print(f\"Best C value from Grid Search: {grid_search.best_params_['svm__C']}\")\n"
   ]
  },
  {
   "cell_type": "code",
   "execution_count": 21,
   "metadata": {},
   "outputs": [
    {
     "name": "stdout",
     "output_type": "stream",
     "text": [
      "Classification Accuracy: 0.7000\n",
      "Sensitivity (Recall for positive class): 0.476\n",
      "Specificity (Recall for negative class): 0.947\n",
      "Balanced Accuracy: 0.712\n",
      "Positive Predictive Value (PPV): 0.909\n",
      "Negative Predictive Value (NPV): 0.621\n",
      "Area Under ROC Curve (AUC): 0.742\n",
      "---------------\n",
      "Classification Report:\n",
      "               precision    recall  f1-score   support\n",
      "\n",
      "           0       0.62      0.95      0.75        19\n",
      "           1       0.91      0.48      0.62        21\n",
      "\n",
      "    accuracy                           0.70        40\n",
      "   macro avg       0.76      0.71      0.69        40\n",
      "weighted avg       0.77      0.70      0.68        40\n",
      "\n"
     ]
    }
   ],
   "source": [
    "accuracy = accuracy_score(y_test, y_pred)\n",
    "sensitivity = recall_score(y_test, y_pred)  # Sensitivity is the same as recall for the positive class\n",
    "specificity = recall_score(y_test, y_pred, pos_label=0)  # Sensitivity for the negative class (specificity)\n",
    "balanced_acc = balanced_accuracy_score(y_test, y_pred)\n",
    "ppv = precision_score(y_test, y_pred)  # Positive Predictive Value (Precision)\n",
    "npv = precision_score(y_test, y_pred, pos_label=0)  # Negative Predictive Value (Precision for class 0)\n",
    "roc_auc = roc_auc_score(y_test, y_prob)\n",
    "\n",
    "# Display the results\n",
    "print(f\"Classification Accuracy: {accuracy:.4f}\")\n",
    "print(f\"Sensitivity (Recall for positive class): {sensitivity:.3f}\")\n",
    "print(f\"Specificity (Recall for negative class): {specificity:.3f}\")\n",
    "print(f\"Balanced Accuracy: {balanced_acc:.3f}\")\n",
    "print(f\"Positive Predictive Value (PPV): {ppv:.3f}\")\n",
    "print(f\"Negative Predictive Value (NPV): {npv:.3f}\")\n",
    "print(f\"Area Under ROC Curve (AUC): {roc_auc:.3f}\")\n",
    "# print(f\"Accuracy: {accuracy:.2f}\")\n",
    "print('---------------')\n",
    "print(\"Classification Report:\\n\", classification_report(y_test, y_pred))\n"
   ]
  },
  {
   "cell_type": "code",
   "execution_count": 22,
   "metadata": {},
   "outputs": [
    {
     "name": "stdout",
     "output_type": "stream",
     "text": [
      "Confusion Matrix:\n",
      "[[18  1]\n",
      " [11 10]]\n"
     ]
    }
   ],
   "source": [
    "from sklearn.metrics import confusion_matrix, accuracy_score, recall_score, balanced_accuracy_score, precision_score, roc_auc_score, classification_report\n",
    "\n",
    "# Assuming y_test and y_pred are already defined\n",
    "# Compute the confusion matrix\n",
    "cm = confusion_matrix(y_test, y_pred)\n",
    "\n",
    "# Display the confusion matrix\n",
    "print(\"Confusion Matrix:\")\n",
    "print(cm)\n"
   ]
  },
  {
   "cell_type": "markdown",
   "metadata": {},
   "source": [
    "Confusion Matrix:\n",
    "[[TN, FP],\n",
    " [FN, TP]]"
   ]
  },
  {
   "cell_type": "code",
   "execution_count": 11,
   "metadata": {},
   "outputs": [
    {
     "name": "stdout",
     "output_type": "stream",
     "text": [
      "Evaluation metrics saved to /Users/roshan/Desktop/fMRI/output/caae1_w_scaling//evaluation_metrics.csv\n"
     ]
    },
    {
     "name": "stderr",
     "output_type": "stream",
     "text": [
      "/Library/Frameworks/Python.framework/Versions/3.10/lib/python3.10/site-packages/sklearn/metrics/_classification.py:1517: UndefinedMetricWarning: Precision is ill-defined and being set to 0.0 in labels with no predicted samples. Use `zero_division` parameter to control this behavior.\n",
      "  _warn_prf(average, modifier, f\"{metric.capitalize()} is\", len(result))\n",
      "/Library/Frameworks/Python.framework/Versions/3.10/lib/python3.10/site-packages/sklearn/metrics/_classification.py:1517: UndefinedMetricWarning: Precision is ill-defined and being set to 0.0 in labels with no predicted samples. Use `zero_division` parameter to control this behavior.\n",
      "  _warn_prf(average, modifier, f\"{metric.capitalize()} is\", len(result))\n",
      "/Library/Frameworks/Python.framework/Versions/3.10/lib/python3.10/site-packages/sklearn/metrics/_classification.py:1517: UndefinedMetricWarning: Precision is ill-defined and being set to 0.0 in labels with no predicted samples. Use `zero_division` parameter to control this behavior.\n",
      "  _warn_prf(average, modifier, f\"{metric.capitalize()} is\", len(result))\n"
     ]
    }
   ],
   "source": [
    "import csv\n",
    "\n",
    "# Define the output file path\n",
    "output_csv = control_path+'/evaluation_metrics.csv'\n",
    "\n",
    "# Prepare the data to be written to CSV\n",
    "metrics = [\n",
    "    ['Metric', 'Value'],\n",
    "    ['Classification Accuracy', f'{accuracy:.4f}'],\n",
    "    ['Sensitivity (Recall for positive class)', f'{sensitivity:.3f}'],\n",
    "    ['Specificity (Recall for negative class)', f'{specificity:.3f}'],\n",
    "    ['Balanced Accuracy', f'{balanced_acc:.3f}'],\n",
    "    ['Positive Predictive Value (PPV)', f'{ppv:.3f}'],\n",
    "    ['Negative Predictive Value (NPV)', f'{npv:.3f}'],\n",
    "    ['Area Under ROC Curve (AUC)', f'{roc_auc:.3f}'],\n",
    "]\n",
    "\n",
    "# Add the classification report to the CSV\n",
    "classification_report_dict = classification_report(y_test, y_pred, output_dict=True)\n",
    "metrics.append(['---', '---'])  # Separator row\n",
    "\n",
    "# Add the per-class metrics to the CSV\n",
    "for label, metrics_dict in classification_report_dict.items():\n",
    "    if isinstance(metrics_dict, dict):\n",
    "        metrics.append([f'{label} - Precision', f'{metrics_dict[\"precision\"]:.3f}'])\n",
    "        metrics.append([f'{label} - Recall', f'{metrics_dict[\"recall\"]:.3f}'])\n",
    "        metrics.append([f'{label} - F1-Score', f'{metrics_dict[\"f1-score\"]:.3f}'])\n",
    "        metrics.append([f'{label} - Support', f'{metrics_dict[\"support\"]}'])\n",
    "\n",
    "metrics.append(['---', '---'])  # Separator row\n",
    "metrics.append(['Overall Accuracy', f'{classification_report_dict[\"accuracy\"]:.3f}'])\n",
    "metrics.append(['Macro Avg - Precision', f'{classification_report_dict[\"macro avg\"][\"precision\"]:.3f}'])\n",
    "metrics.append(['Macro Avg - Recall', f'{classification_report_dict[\"macro avg\"][\"recall\"]:.3f}'])\n",
    "metrics.append(['Macro Avg - F1-Score', f'{classification_report_dict[\"macro avg\"][\"f1-score\"]:.3f}'])\n",
    "metrics.append(['Weighted Avg - Precision', f'{classification_report_dict[\"weighted avg\"][\"precision\"]:.3f}'])\n",
    "metrics.append(['Weighted Avg - Recall', f'{classification_report_dict[\"weighted avg\"][\"recall\"]:.3f}'])\n",
    "metrics.append(['Weighted Avg - F1-Score', f'{classification_report_dict[\"weighted avg\"][\"f1-score\"]:.3f}'])\n",
    "\n",
    "# Write the metrics to a CSV file\n",
    "with open(output_csv, mode='w', newline='') as file:\n",
    "    writer = csv.writer(file)\n",
    "    writer.writerows(metrics)\n",
    "\n",
    "print(f\"Evaluation metrics saved to {output_csv}\")\n"
   ]
  },
  {
   "cell_type": "code",
   "execution_count": 12,
   "metadata": {},
   "outputs": [
    {
     "data": {
      "image/png": "[encoded data removed]",
      "text/plain": [
       "<Figure size 800x600 with 1 Axes>"
      ]
     },
     "metadata": {},
     "output_type": "display_data"
    }
   ],
   "source": [
    "import matplotlib.pyplot as plt\n",
    "fpr, tpr, thresholds = roc_curve(y_test, y_prob)\n",
    "plt.figure(figsize=(8, 6))\n",
    "plt.plot(fpr, tpr, color='darkorange', lw=2, label=f'ROC curve (AUC = {roc_auc:.2f})')\n",
    "plt.plot([0, 1], [0, 1], color='navy', lw=2, linestyle='--')  # Diagonal line for random guess\n",
    "plt.xlim([0.0, 1.0])\n",
    "plt.ylim([0.0, 1.05])\n",
    "plt.xlabel('False Positive Rate')\n",
    "plt.ylabel('True Positive Rate')\n",
    "plt.title('Receiver Operating Characteristic (ROC) Curve')\n",
    "plt.legend(loc='lower right')\n",
    "plt.grid()\n",
    "plt.show()\n"
   ]
  }
 ],
 "metadata": {
  "kernelspec": {
   "display_name": "Python 3",
   "language": "python",
   "name": "python3"
  },
  "language_info": {
   "codemirror_mode": {
    "name": "ipython",
    "version": 3
   },
   "file_extension": ".py",
   "mimetype": "text/x-python",
   "name": "python",
   "nbconvert_exporter": "python",
   "pygments_lexer": "ipython3",
   "version": "3.10.0"
  }
 },
 "nbformat": 4,
 "nbformat_minor": 2
}
