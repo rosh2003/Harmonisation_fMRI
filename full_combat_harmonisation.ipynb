{
 "cells": [
  {
   "cell_type": "markdown",
   "metadata": {},
   "source": [
    "f'/Volumes/resabi202400022-mri-harmonization-data/data/roshan/combat/harmonised_images/{source}/'"
   ]
  },
  {
   "cell_type": "markdown",
   "metadata": {},
   "source": [
    "# Combat Implicit harmonisation"
   ]
  },
  {
   "cell_type": "markdown",
   "metadata": {},
   "source": [
    "# Making the 1000 matrices"
   ]
  },
  {
   "cell_type": "markdown",
   "metadata": {},
   "source": [
    "## Uses site, age, sex as covars \n",
    "other thing only used site"
   ]
  },
  {
   "cell_type": "code",
   "execution_count": 1,
   "metadata": {},
   "outputs": [],
   "source": [
    "import numpy as np\n",
    "import pandas as pd\n",
    "from scipy.io import loadmat, savemat\n",
    "from sklearn.model_selection import train_test_split, GridSearchCV\n",
    "from sklearn.svm import SVC\n",
    "from sklearn.pipeline import Pipeline\n",
    "from sklearn.preprocessing import StandardScaler\n",
    "from sklearn.metrics import (accuracy_score, classification_report,recall_score, precision_score, \n",
    "                             roc_auc_score, roc_curve, confusion_matrix, balanced_accuracy_score)\n",
    "import os\n",
    "import glob\n",
    "from neuroCombat import neuroCombat\n"
   ]
  },
  {
   "cell_type": "code",
   "execution_count": 2,
   "metadata": {},
   "outputs": [],
   "source": [
    "# control_path = '/Volumes/resabi202400022-mri-harmonization-data/data/fmri/abide/'\n",
    "control_path = '/Users/roshan/Desktop/fMRI/abide/'\n",
    "# Use glob to search for the specific .mat file recursively\n",
    "specific_files = glob.glob(os.path.join(control_path, '**', '*_AAL116_correlation_matrix.mat'), recursive=True)\n",
    "\n",
    "# # Print the list of found file\n",
    "patient_files = [f for f in specific_files if 'patient' in os.path.dirname(f)]\n",
    "control_files = [f for f in specific_files if 'control' in os.path.dirname(f)]\n"
   ]
  },
  {
   "cell_type": "code",
   "execution_count": 3,
   "metadata": {},
   "outputs": [
    {
     "data": {
      "text/html": [
       "<div>\n",
       "<style scoped>\n",
       "    .dataframe tbody tr th:only-of-type {\n",
       "        vertical-align: middle;\n",
       "    }\n",
       "\n",
       "    .dataframe tbody tr th {\n",
       "        vertical-align: top;\n",
       "    }\n",
       "\n",
       "    .dataframe thead th {\n",
       "        text-align: right;\n",
       "    }\n",
       "</style>\n",
       "<table border=\"1\" class=\"dataframe\">\n",
       "  <thead>\n",
       "    <tr style=\"text-align: right;\">\n",
       "      <th></th>\n",
       "      <th>Image Data ID</th>\n",
       "      <th>Subject</th>\n",
       "      <th>Group</th>\n",
       "      <th>Sex</th>\n",
       "      <th>Age</th>\n",
       "      <th>Visit</th>\n",
       "      <th>Modality</th>\n",
       "      <th>Description</th>\n",
       "      <th>Site</th>\n",
       "    </tr>\n",
       "  </thead>\n",
       "  <tbody>\n",
       "    <tr>\n",
       "      <th>0</th>\n",
       "      <td>I327154</td>\n",
       "      <td>50002</td>\n",
       "      <td>Autism</td>\n",
       "      <td>M</td>\n",
       "      <td>17</td>\n",
       "      <td>1</td>\n",
       "      <td>fMRI</td>\n",
       "      <td>Resting State fMRI</td>\n",
       "      <td>PITT</td>\n",
       "    </tr>\n",
       "    <tr>\n",
       "      <th>1</th>\n",
       "      <td>I328631</td>\n",
       "      <td>50002</td>\n",
       "      <td>Autism</td>\n",
       "      <td>M</td>\n",
       "      <td>17</td>\n",
       "      <td>1</td>\n",
       "      <td>MRI</td>\n",
       "      <td>MP-RAGE</td>\n",
       "      <td>PITT</td>\n",
       "    </tr>\n",
       "    <tr>\n",
       "      <th>2</th>\n",
       "      <td>I328256</td>\n",
       "      <td>50003</td>\n",
       "      <td>Autism</td>\n",
       "      <td>M</td>\n",
       "      <td>24</td>\n",
       "      <td>1</td>\n",
       "      <td>fMRI</td>\n",
       "      <td>Resting State fMRI</td>\n",
       "      <td>PITT</td>\n",
       "    </tr>\n",
       "    <tr>\n",
       "      <th>3</th>\n",
       "      <td>I328410</td>\n",
       "      <td>50003</td>\n",
       "      <td>Autism</td>\n",
       "      <td>M</td>\n",
       "      <td>24</td>\n",
       "      <td>1</td>\n",
       "      <td>MRI</td>\n",
       "      <td>MP-RAGE</td>\n",
       "      <td>PITT</td>\n",
       "    </tr>\n",
       "    <tr>\n",
       "      <th>4</th>\n",
       "      <td>I328736</td>\n",
       "      <td>50004</td>\n",
       "      <td>Autism</td>\n",
       "      <td>M</td>\n",
       "      <td>19</td>\n",
       "      <td>1</td>\n",
       "      <td>MRI</td>\n",
       "      <td>MP-RAGE</td>\n",
       "      <td>PITT</td>\n",
       "    </tr>\n",
       "  </tbody>\n",
       "</table>\n",
       "</div>"
      ],
      "text/plain": [
       "  Image Data ID  Subject   Group Sex  Age  Visit Modality         Description  \\\n",
       "0       I327154    50002  Autism   M   17      1     fMRI  Resting State fMRI   \n",
       "1       I328631    50002  Autism   M   17      1      MRI             MP-RAGE   \n",
       "2       I328256    50003  Autism   M   24      1     fMRI  Resting State fMRI   \n",
       "3       I328410    50003  Autism   M   24      1      MRI             MP-RAGE   \n",
       "4       I328736    50004  Autism   M   19      1      MRI             MP-RAGE   \n",
       "\n",
       "   Site  \n",
       "0  PITT  \n",
       "1  PITT  \n",
       "2  PITT  \n",
       "3  PITT  \n",
       "4  PITT  "
      ]
     },
     "execution_count": 3,
     "metadata": {},
     "output_type": "execute_result"
    }
   ],
   "source": [
    "# meta_data = pd.read_csv('ABIDE.csv')\n",
    "meta_data = pd.read_csv('Sheet 1-ABIDE_metadata.csv')\n",
    "meta_data.head()"
   ]
  },
  {
   "cell_type": "code",
   "execution_count": 4,
   "metadata": {},
   "outputs": [],
   "source": [
    "abide_df = meta_data[['Subject', 'Site', 'Sex', 'Age']]\n",
    "\n"
   ]
  },
  {
   "cell_type": "code",
   "execution_count": 5,
   "metadata": {},
   "outputs": [],
   "source": [
    "def extract_subject_id(file_path):\n",
    "    # Assumes the subject ID is always after 'sub-control' or 'sub-patient' and is a numeric value\n",
    "    base_name = os.path.basename(file_path)  # Get the file name (e.g., 'sub-control50197_AAL116_correlation_matrix.mat')\n",
    "    subject_id = base_name.split('_')[0].replace('sub-control', '').replace('sub-patient', '')  # Extract the subject ID\n",
    "    return int(subject_id)\n"
   ]
  },
  {
   "cell_type": "code",
   "execution_count": 6,
   "metadata": {},
   "outputs": [],
   "source": [
    "# abide_df.head()\n",
    "all_files = control_files+patient_files"
   ]
  },
  {
   "cell_type": "code",
   "execution_count": 7,
   "metadata": {},
   "outputs": [],
   "source": [
    "def load_matrix(file_path):\n",
    "    mat_data = loadmat(file_path)\n",
    "    return mat_data['data']  # Adjust 'data' to match the key in your .mat files\n"
   ]
  },
  {
   "cell_type": "code",
   "execution_count": 8,
   "metadata": {},
   "outputs": [
    {
     "data": {
      "text/html": [
       "<div>\n",
       "<style scoped>\n",
       "    .dataframe tbody tr th:only-of-type {\n",
       "        vertical-align: middle;\n",
       "    }\n",
       "\n",
       "    .dataframe tbody tr th {\n",
       "        vertical-align: top;\n",
       "    }\n",
       "\n",
       "    .dataframe thead th {\n",
       "        text-align: right;\n",
       "    }\n",
       "</style>\n",
       "<table border=\"1\" class=\"dataframe\">\n",
       "  <thead>\n",
       "    <tr style=\"text-align: right;\">\n",
       "      <th></th>\n",
       "      <th>Subject</th>\n",
       "      <th>Site</th>\n",
       "      <th>Sex</th>\n",
       "      <th>Age</th>\n",
       "    </tr>\n",
       "  </thead>\n",
       "  <tbody>\n",
       "    <tr>\n",
       "      <th>0</th>\n",
       "      <td>50002</td>\n",
       "      <td>PITT</td>\n",
       "      <td>M</td>\n",
       "      <td>17</td>\n",
       "    </tr>\n",
       "    <tr>\n",
       "      <th>1</th>\n",
       "      <td>50002</td>\n",
       "      <td>PITT</td>\n",
       "      <td>M</td>\n",
       "      <td>17</td>\n",
       "    </tr>\n",
       "  </tbody>\n",
       "</table>\n",
       "</div>"
      ],
      "text/plain": [
       "   Subject  Site Sex  Age\n",
       "0    50002  PITT   M   17\n",
       "1    50002  PITT   M   17"
      ]
     },
     "execution_count": 8,
     "metadata": {},
     "output_type": "execute_result"
    }
   ],
   "source": [
    "abide_df.loc[abide_df['Subject'] == 50002]"
   ]
  },
  {
   "cell_type": "code",
   "execution_count": 9,
   "metadata": {},
   "outputs": [],
   "source": [
    "data_matrices = []\n",
    "labels = []\n",
    "subject_ids = []\n",
    "site_info = []\n",
    "sex_info = []\n",
    "age_info = []\n",
    "# Process control files (label = 0)\n",
    "for file_path in control_files:\n",
    "    subject_id = extract_subject_id(file_path)\n",
    "    \n",
    "    # Look up site information from `abide_df` using subject ID\n",
    "    row = abide_df.loc[abide_df['Subject'] == subject_id]\n",
    "    site = row['Site'].values[0]\n",
    "    sex = row['Sex'].values[0]\n",
    "    age = row['Age'].values[0]\n",
    "    \n",
    "    \n",
    "    # Load the matrix and flatten it\n",
    "    matrix = load_matrix(file_path)\n",
    "    data_matrices.append(matrix.flatten())\n",
    "    labels.append(0)  # Control label\n",
    "    subject_ids.append(subject_id)\n",
    "    site_info.append(site)\n",
    "    sex_info.append(sex)\n",
    "    age_info.append(age)\n",
    "\n",
    "# Process autism files (label = 1)\n",
    "for file_path in patient_files:\n",
    "    subject_id = extract_subject_id(file_path)\n",
    "    \n",
    "    # Look up site information from `abide_df` using subject ID\n",
    "    row = abide_df.loc[abide_df['Subject'] == subject_id]\n",
    "    site = row['Site'].values[0]\n",
    "    sex = row['Sex'].values[0]\n",
    "    age = row['Age'].values[0]\n",
    "    # Load the matrix and flatten it\n",
    "    matrix = load_matrix(file_path)\n",
    "    data_matrices.append(matrix.flatten())\n",
    "    labels.append(1)  # Autism label\n",
    "    subject_ids.append(subject_id)\n",
    "    site_info.append(site)\n",
    "    sex_info.append(sex)\n",
    "    age_info.append(age)"
   ]
  },
  {
   "cell_type": "code",
   "execution_count": 10,
   "metadata": {},
   "outputs": [],
   "source": [
    "# Convert lists to numpy arrays\n",
    "data_matrices = np.array(data_matrices)\n",
    "labels = np.array(labels)\n",
    "site_info = np.array(site_info)\n",
    "sex_info = np.array(sex_info)\n",
    "age_info = np.array(age_info)\n",
    "\n",
    "# Prepare the site DataFrame for ComBat harmonization\n",
    "covars = pd.DataFrame({\n",
    "    'site': site_info,\n",
    "    'sex': sex_info,  # Include sex as a covariate\n",
    "    'age': age_info   # Include age as a covariate\n",
    "})"
   ]
  },
  {
   "cell_type": "code",
   "execution_count": 11,
   "metadata": {},
   "outputs": [
    {
     "name": "stdout",
     "output_type": "stream",
     "text": [
      "[neuroCombat] Creating design matrix\n",
      "[neuroCombat] Standardizing data across features\n",
      "[neuroCombat] Fitting L/S model and finding priors\n",
      "[neuroCombat] Finding parametric adjustments\n",
      "[neuroCombat] Final adjustment of data\n"
     ]
    }
   ],
   "source": [
    "# Perform ComBat harmonization\n",
    "combat_harmonized_data = neuroCombat(\n",
    "    dat=data_matrices.T,  # Transpose so that features are rows\n",
    "    covars=covars,\n",
    "    batch_col='site',\n",
    "    categorical_cols=['sex'],  # Sex is categorical\n",
    "    continuous_cols=['age']    # Age is continuous\n",
    ")['data']"
   ]
  },
  {
   "cell_type": "code",
   "execution_count": 12,
   "metadata": {},
   "outputs": [],
   "source": [
    "# Transpose back so subjects are rows\n",
    "combat_harmonized_data = combat_harmonized_data.T\n",
    "\n",
    "# Reshape the harmonized data back to 116x116 matrices\n",
    "harmonized_matrices = combat_harmonized_data.reshape(-1, 116, 116)\n"
   ]
  },
  {
   "cell_type": "code",
   "execution_count": 13,
   "metadata": {},
   "outputs": [
    {
     "name": "stdout",
     "output_type": "stream",
     "text": [
      "Harmonized data info saved to: /Users/roshan/Desktop/fMRI/output/combat_new/harmonized_data_info.csv\n"
     ]
    }
   ],
   "source": [
    " #Save the harmonized matrices to disk\n",
    "output_dir = '/Users/roshan/Desktop/fMRI/output/combat_new/'\n",
    "os.makedirs(output_dir, exist_ok=True)\n",
    "file_paths = []\n",
    "\n",
    "for i, subject_id in enumerate(subject_ids):\n",
    "    # Determine the prefix based on the autism label (0 for control, 1 for autism)\n",
    "    if labels[i] == 0:\n",
    "        prefix = 'sub-control'\n",
    "    else:\n",
    "        prefix = 'sub-patient'\n",
    "    \n",
    "    # Construct the file name\n",
    "    file_name = f'{prefix}{subject_id}_harmonized.mat'\n",
    "    file_path = os.path.join(output_dir, file_name)\n",
    "    \n",
    "    # Save as .mat file with the correct file name\n",
    "    savemat(file_path, {'data': harmonized_matrices[i]})\n",
    "    file_paths.append(file_path)\n",
    "\n",
    "# Create a CSV file to store file paths, labels, subject IDs, and site info\n",
    "output_csv = '/Users/roshan/Desktop/fMRI/output/combat_new/harmonized_data_info.csv'\n",
    "csv_df = pd.DataFrame({\n",
    "    'file_path': file_paths,\n",
    "    'subject_id': subject_ids,\n",
    "    'autism_label': labels,\n",
    "    'site': site_info\n",
    "})\n",
    "\n",
    "csv_df.to_csv(output_csv, index=False)\n",
    "print(f\"Harmonized data info saved to: {output_csv}\")"
   ]
  }
 ],
 "metadata": {
  "kernelspec": {
   "display_name": "Python 3",
   "language": "python",
   "name": "python3"
  },
  "language_info": {
   "codemirror_mode": {
    "name": "ipython",
    "version": 3
   },
   "file_extension": ".py",
   "mimetype": "text/x-python",
   "name": "python",
   "nbconvert_exporter": "python",
   "pygments_lexer": "ipython3",
   "version": "3.10.0"
  }
 },
 "nbformat": 4,
 "nbformat_minor": 2
}
